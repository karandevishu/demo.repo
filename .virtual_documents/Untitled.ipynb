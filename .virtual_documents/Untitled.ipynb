import pandas as pd




df = pd.read_csv(r"C:\Users\DELL\Downloads\test.csv")
df.head()


df.shape


df.columns.tolist()


df.replace(['0', 'missing', 'Missing'], pd.NA, inplace=True)


df.head()


# Missing value count
missing = df.isnull().sum()
missing


missing = missing[missing > 0]


import matplotlib.pyplot as plt
import seaborn as sns
# Bar plot
plt.figure(figsize=(12, 6))
sns.barplot(x=missing.index, y=missing.values, palette='viridis')

plt.xticks(rotation=90)
plt.xlabel('Columns')
plt.ylabel('Missing Value Count')
plt.title('Missing Values in Each Column')
plt.tight_layout()
plt.show()


# Calculate % of missing values
missing_percent = (df.isnull().sum() / len(df)) * 100
missing_percent = missing_percent[missing_percent > 0]  

for col, val in missing_percent.items():
   print(f"{col}: {val:.2f}%")
# Display
#print(missing_percent)




# Filter columns with > 50% missing
columns_above_50 = missing_percent[missing_percent > 50]

# Display result
print("Columns with more than 50% missing values:")
print(columns_above_50)



