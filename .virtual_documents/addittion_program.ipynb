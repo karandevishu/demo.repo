import pandas as pd
import numpy as np
import matplotlib.pyplot as plt
import seaborn as sns
import sklearn

print("All libraries working fine ✅")


print('hi')



value1=20
value2=30
print(value1+value2)



num=2
num1=3
print(num*num2)




