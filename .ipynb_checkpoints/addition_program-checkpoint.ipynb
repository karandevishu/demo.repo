{
 "cells": [
  {
   "cell_type": "code",
   "execution_count": 7,
   "id": "dc4f6b38-473d-46dc-a552-94114149a5bd",
   "metadata": {},
   "outputs": [
    {
     "name": "stdout",
     "output_type": "stream",
     "text": [
      "All libraries working fine ✅\n"
     ]
    }
   ],
   "source": [
    "import pandas as pd\n",
    "import numpy as np\n",
    "import matplotlib.pyplot as plt\n",
    "import seaborn as sns\n",
    "import sklearn\n",
    "\n",
    "print(\"All libraries working fine ✅\")"
   ]
  },
  {
   "cell_type": "code",
   "execution_count": 1,
   "id": "bd9c7829-bda4-4901-803b-7f1b44f539db",
   "metadata": {},
   "outputs": [
    {
     "name": "stdout",
     "output_type": "stream",
     "text": [
      "hi\n"
     ]
    }
   ],
   "source": [
    "print('hi')\n"
   ]
  },
  {
   "cell_type": "code",
   "execution_count": 3,
   "id": "0e6b6d6c-f953-49ed-aa16-3768d2b5ed8d",
   "metadata": {},
   "outputs": [
    {
     "name": "stdout",
     "output_type": "stream",
     "text": [
      "50\n"
     ]
    }
   ],
   "source": [
    "value1=20\n",
    "value2=30\n",
    "print(value1+value2)\n"
   ]
  },
  {
   "cell_type": "code",
   "execution_count": 3,
   "id": "64272b7f-c20b-4ffd-90bf-93d04d5f480e",
   "metadata": {},
   "outputs": [
    {
     "name": "stdout",
     "output_type": "stream",
     "text": [
      "6\n"
     ]
    }
   ],
   "source": [
    "num=2\n",
    "num1=3\n",
    "print(num*num1)\n"
   ]
  },
  {
   "cell_type": "code",
   "execution_count": null,
   "id": "3363baa3-426d-4dd3-b1bc-e7260cb98e4c",
   "metadata": {},
   "outputs": [],
   "source": []
  }
 ],
 "metadata": {
  "kernelspec": {
   "display_name": "Python 3 (ipykernel)",
   "language": "python",
   "name": "python3"
  },
  "language_info": {
   "codemirror_mode": {
    "name": "ipython",
    "version": 3
   },
   "file_extension": ".py",
   "mimetype": "text/x-python",
   "name": "python",
   "nbconvert_exporter": "python",
   "pygments_lexer": "ipython3",
   "version": "3.12.7"
  }
 },
 "nbformat": 4,
 "nbformat_minor": 5
}
